{
  "cells": [
    {
      "cell_type": "markdown",
      "metadata": {
        "id": "view-in-github",
        "colab_type": "text"
      },
      "source": [
        "<a href=\"https://colab.research.google.com/github/TheAmirHK/BendersDecomposition/blob/main/benders_decomposition.ipynb\" target=\"_parent\"><img src=\"https://colab.research.google.com/assets/colab-badge.svg\" alt=\"Open In Colab\"/></a>"
      ]
    },
    {
      "cell_type": "code",
      "source": [
        "!pip install mip"
      ],
      "metadata": {
        "id": "G4SIz9wYzOfd"
      },
      "execution_count": null,
      "outputs": []
    },
    {
      "cell_type": "code",
      "source": [
        "from mip import Model, xsum, MINIMIZE, INTEGER, CONTINUOUS\n",
        "from mip import OptimizationStatus"
      ],
      "metadata": {
        "id": "Iz-llhMK1FlQ"
      },
      "execution_count": 31,
      "outputs": []
    },
    {
      "cell_type": "code",
      "source": [
        "# Solving the mixed-integer model as a general form\n",
        "\n",
        "model = Model(sense=MINIMIZE)\n",
        "\n",
        "x1 = model.add_var(name='x1', var_type=INTEGER, lb=0)\n",
        "x2 = model.add_var(name='x2', var_type=INTEGER, lb=0)\n",
        "y1 = model.add_var(name='y1', var_type=CONTINUOUS, lb=0)\n",
        "y2 = model.add_var(name='y2', var_type=CONTINUOUS, lb=0)\n",
        "y3 = model.add_var(name='y3', var_type=CONTINUOUS, lb=0)\n",
        "\n",
        "model.objective = 3*x1 + 22*x2 + y1 + 7*y2 + 9*y3\n",
        "\n",
        "model += x1 + x2 + y1 - 2*y3 >= 15\n",
        "model += x2 + y1 + 7*y2 >= 8\n",
        "\n",
        "model.optimize()\n",
        "\n",
        "if model.status == OptimizationStatus.OPTIMAL:\n",
        "    print(f\"Optimal x1: {x1.x}, Optimal x2: {x2.x}, Optimal y1: {y1.x}, Optimal y2: {y2.x}, Optimal y3: {y3.x}, Optimal Objective: {model.objective_value}\")\n",
        "else:\n",
        "    print(\"No optimal solution found.\")\n",
        "\n"
      ],
      "metadata": {
        "colab": {
          "base_uri": "https://localhost:8080/"
        },
        "id": "fTBgbbPmzQ7e",
        "outputId": "b514b73c-d8ad-4bfe-b54d-6c020f2aeb92"
      },
      "execution_count": 32,
      "outputs": [
        {
          "output_type": "stream",
          "name": "stdout",
          "text": [
            "Optimal x1: 0.0, Optimal x2: 0.0, Optimal y1: 15.0, Optimal y2: 0.0, Optimal y3: 0.0, Optimal Objective: 15.0\n"
          ]
        }
      ]
    },
    {
      "cell_type": "code",
      "source": [
        "# Solving the mixed-integer model using Bender's decomposition method\n",
        "\n",
        "def solve_master_problem(cuts):\n",
        "    model = Model(sense=MINIMIZE)\n",
        "    x1 = model.add_var(name='x1', var_type=INTEGER, lb=0)\n",
        "    x2 = model.add_var(name='x2', var_type=INTEGER, lb=0)\n",
        "    theta = model.add_var(name='theta', var_type=CONTINUOUS, lb=-1000)\n",
        "\n",
        "    model.objective = 3*x1 + 22*x2 + theta\n",
        "\n",
        "    for i, (alpha, beta) in enumerate(cuts):\n",
        "        model += theta >= alpha[0] * x1 + alpha[1] * x2 + beta, f\"BendersCut_{i}\"\n",
        "\n",
        "    model.optimize()\n",
        "    return x1.x, x2.x, theta.x if model.status == OptimizationStatus.OPTIMAL else (None, None, None)\n",
        "\n",
        "def solve_subproblem(x1, x2):\n",
        "    model = Model(sense=MINIMIZE)\n",
        "    y1 = model.add_var(name='y1', var_type=CONTINUOUS, lb=0)\n",
        "    y2 = model.add_var(name='y2', var_type=CONTINUOUS, lb=0)\n",
        "    y3 = model.add_var(name='y3', var_type=CONTINUOUS, lb=0)\n",
        "\n",
        "    model.objective = y1 + 7*y2 + 9*y3\n",
        "\n",
        "    model += x1 + x2 + y1 - 2*y3 >= 15\n",
        "    model += x2 + y1 + 7*y2 >= 8\n",
        "\n",
        "    model.optimize()\n",
        "\n",
        "    if model.status == OptimizationStatus.OPTIMAL:\n",
        "        return y1.x, y2.x, y3.x, model.objective_value\n",
        "    else:\n",
        "        return None, None, None, None\n",
        "\n",
        "\n",
        "# benders' procedure\n",
        "cuts = []\n",
        "for iteration in range(10):\n",
        "    x1, x2, theta = solve_master_problem(cuts)\n",
        "    if x1 is None:\n",
        "        break\n",
        "\n",
        "    y1, y2, y3, obj_value = solve_subproblem(x1, x2)\n",
        "\n",
        "    if obj_value is not None:\n",
        "        alpha = [-1, -1]\n",
        "        beta = obj_value\n",
        "        cuts.append((alpha, beta))\n",
        "    else:\n",
        "        break\n",
        "\n",
        "print(f\"Optimal x1: {x1}, Optimal x2: {x2}, Optimal y1: {y1}, Optimal y2: {y2}, Optimal y3: {y3}, Optimal Objective: {obj_value}\")\n"
      ],
      "metadata": {
        "colab": {
          "base_uri": "https://localhost:8080/"
        },
        "id": "RlirLB52zF7n",
        "outputId": "b3057c89-080c-4552-f532-52c0eee8a8fc"
      },
      "execution_count": 33,
      "outputs": [
        {
          "output_type": "stream",
          "name": "stdout",
          "text": [
            "Optimal x1: 0.0, Optimal x2: 0.0, Optimal y1: 15.0, Optimal y2: 0.0, Optimal y3: 0.0, Optimal Objective: 15.0\n"
          ]
        }
      ]
    }
  ],
  "metadata": {
    "colab": {
      "provenance": [],
      "authorship_tag": "ABX9TyM4FK9dJ0Svc9D0FhkKbHZE",
      "include_colab_link": true
    },
    "kernelspec": {
      "display_name": "Python 3",
      "name": "python3"
    },
    "language_info": {
      "name": "python"
    }
  },
  "nbformat": 4,
  "nbformat_minor": 0
}